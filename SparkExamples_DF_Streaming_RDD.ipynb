{
 "cells": [
  {
   "cell_type": "markdown",
   "id": "7bc17b5e",
   "metadata": {},
   "source": [
    "## Apache Spark Examples\n",
    "\n",
    "This exercise shows you how to use different Apache Spark APIs with simple examples.\n",
    "\n",
    "Spark is a great engine for small and large datasets. It can be used with single-node/localhost environments, or distributed clusters. Spark’s expansive API, excellent performance, and flexibility make it a good option for many analyses. This guide shows examples with the following Spark APIs:\n",
    "\n",
    "- DataFrames\n",
    "- SQL\n",
    "- Structured Streaming\n",
    "- RDDs\n",
    "\n",
    "The examples use small datasets so the they are easy to follow."
   ]
  },
  {
   "cell_type": "markdown",
   "id": "fbb96d2f",
   "metadata": {},
   "source": [
    "# Spark DataFrame example\n",
    "\n",
    "This section shows you how to create a Spark DataFrame and run simple operations. The examples are on a small DataFrame, so you can easily see the functionality.\n",
    "\n",
    "Let’s start by creating a Spark Session:"
   ]
  },
  {
   "cell_type": "code",
   "execution_count": null,
   "id": "3133e781",
   "metadata": {},
   "outputs": [],
   "source": [
    "%pip install --upgrade pip\n",
    "%pip install pyspark==4.0.0 -q"
   ]
  },
  {
   "cell_type": "code",
   "execution_count": null,
   "id": "f2cc83e1",
   "metadata": {},
   "outputs": [],
   "source": [
    "from pyspark.sql import SparkSession\n",
    "\n",
    "spark = SparkSession.builder.appName(\"demo\").getOrCreate()"
   ]
  },
  {
   "cell_type": "markdown",
   "id": "d0e36efa",
   "metadata": {},
   "source": [
    "Some Spark runtime environments come with pre-instantiated Spark Sessions. The getOrCreate() method will use an existing Spark Session or create a new Spark Session if one does not already exist.\n",
    "\n",
    "### Create a Spark DataFrame:\n",
    "\n",
    "Start by creating a DataFrame with first_name and age columns and four rows of data:"
   ]
  },
  {
   "cell_type": "code",
   "execution_count": null,
   "id": "2ce21ad2",
   "metadata": {},
   "outputs": [],
   "source": [
    "data = (\n",
    "    [\n",
    "        (\"sue\", 32),\n",
    "        (\"li\", 3),\n",
    "        (\"bob\", 75),\n",
    "        (\"heo\", 13)\n",
    "    ]\n",
    ")\n",
    "schema = \"first_name STRING, age INT\"\n",
    "df = spark.createDataFrame(data, schema=schema)"
   ]
  },
  {
   "cell_type": "code",
   "execution_count": null,
   "id": "f1fad4bf",
   "metadata": {},
   "outputs": [],
   "source": []
  },
  {
   "cell_type": "markdown",
   "id": "9a46412d",
   "metadata": {},
   "source": [
    "Use the show() method to view the contents of the DataFrame:"
   ]
  },
  {
   "cell_type": "code",
   "execution_count": null,
   "id": "9ad7ac4a",
   "metadata": {},
   "outputs": [],
   "source": [
    "#df.show()"
   ]
  },
  {
   "cell_type": "markdown",
   "id": "2416b1c4",
   "metadata": {},
   "source": [
    "Now, let’s perform some data processing operations on the DataFrame.\n",
    "\n",
    "### Add a column to a Spark DataFrame\n",
    "\n",
    "Let’s add a life_stage column to the DataFrame that returns “child” if the age is 12 or under, “teenager” if the age is between 13 and 19, and “adult” if the age is 20 or older."
   ]
  },
  {
   "cell_type": "code",
   "execution_count": null,
   "id": "3d4c8703",
   "metadata": {},
   "outputs": [],
   "source": [
    "from pyspark.sql.functions import col, when\n",
    "\n",
    "df1 = df.withColumn(\n",
    "    \"life_stage\",\n",
    "    when(col(\"age\") < 13, \"child\")\n",
    "    .when(col(\"age\").between(13, 19), \"teenager\")\n",
    "    .otherwise(\"adult\"),\n",
    ")"
   ]
  },
  {
   "cell_type": "markdown",
   "id": "67850274",
   "metadata": {},
   "source": [
    "It’s easy to add columns to a Spark DataFrame. Let’s view the contents of df1."
   ]
  },
  {
   "cell_type": "code",
   "execution_count": null,
   "id": "b0b95773",
   "metadata": {},
   "outputs": [],
   "source": [
    "df.show()"
   ]
  },
  {
   "cell_type": "markdown",
   "id": "6fdb3066",
   "metadata": {},
   "source": [
    "Spark operations don’t mutate the DataFrame. You must assign the result to a new variable to access the DataFrame changes for subsequent operations.\n",
    "\n",
    "### Filter a Spark DataFrame\n",
    "\n",
    "Now, filter the DataFrame so it only includes teenagers and adults."
   ]
  },
  {
   "cell_type": "code",
   "execution_count": null,
   "id": "cd2961f0",
   "metadata": {},
   "outputs": [],
   "source": [
    "df1.where(col(\"life_stage\").isin([\"teenager\", \"adult\"])).show()"
   ]
  },
  {
   "cell_type": "markdown",
   "id": "b0785176",
   "metadata": {},
   "source": [
    "### Group by aggregation on Spark DataFrame\n",
    "\n",
    "Now, let’s compute the average age for everyone in the dataset:"
   ]
  },
  {
   "cell_type": "code",
   "execution_count": null,
   "id": "9a52e541",
   "metadata": {},
   "outputs": [],
   "source": [
    "from pyspark.sql.functions import avg\n",
    "\n",
    "df1.select(avg(\"age\")).show()"
   ]
  },
  {
   "cell_type": "markdown",
   "id": "17e3ad52",
   "metadata": {},
   "source": [
    "You can also compute the average age for each life_stage:"
   ]
  },
  {
   "cell_type": "code",
   "execution_count": null,
   "id": "69f34147",
   "metadata": {},
   "outputs": [],
   "source": [
    "df1.groupBy(\"life_stage\").avg().show()"
   ]
  },
  {
   "cell_type": "markdown",
   "id": "78cc5101",
   "metadata": {},
   "source": [
    "Spark lets you run queries on DataFrames with SQL if you don’t want to use the programmatic APIs.\n",
    "\n",
    "### Query the DataFrame with SQL\n",
    "\n",
    "Here’s how you can compute the average age for everyone with SQL:"
   ]
  },
  {
   "cell_type": "code",
   "execution_count": null,
   "id": "a32fbfd7",
   "metadata": {},
   "outputs": [],
   "source": [
    "spark.sql(\"select avg(age) from {df1}\", df1=df1).show()"
   ]
  },
  {
   "cell_type": "markdown",
   "id": "acde1cee",
   "metadata": {},
   "source": [
    "And here’s how to compute the average age by life_stage with SQL:"
   ]
  },
  {
   "cell_type": "code",
   "execution_count": null,
   "id": "6b990570",
   "metadata": {},
   "outputs": [],
   "source": [
    "spark.sql(\"select life_stage, avg(age) from {df1} group by life_stage\", df1=df1).show()"
   ]
  },
  {
   "cell_type": "markdown",
   "id": "d55c3716",
   "metadata": {},
   "source": [
    "Spark lets you use the programmatic API, the SQL API, or a combination of both. This flexibility makes Spark accessible to a variety of users and powerfully expressive.\n",
    "\n",
    "## Spark SQL Example\n",
    "\n",
    "Let’s persist the DataFrame in a named Parquet table that is easily accessible via the SQL API."
   ]
  },
  {
   "cell_type": "code",
   "execution_count": null,
   "id": "5ce4a643",
   "metadata": {},
   "outputs": [],
   "source": [
    "df1.write.saveAsTable(\"some_people\")"
   ]
  },
  {
   "cell_type": "markdown",
   "id": "e4e5d35f",
   "metadata": {},
   "source": [
    "Make sure that the table is accessible via the table name:"
   ]
  },
  {
   "cell_type": "code",
   "execution_count": null,
   "id": "6f0d9cf1",
   "metadata": {},
   "outputs": [],
   "source": [
    "spark.sql(\"select * from some_people\").show()"
   ]
  },
  {
   "cell_type": "markdown",
   "id": "9b5ff56f",
   "metadata": {},
   "source": [
    "Now, let’s use SQL to insert a few more rows of data into the table:"
   ]
  },
  {
   "cell_type": "code",
   "execution_count": null,
   "id": "1f75579a",
   "metadata": {},
   "outputs": [],
   "source": [
    "spark.sql(\"INSERT INTO some_people VALUES ('frank', 4, 'child')\")"
   ]
  },
  {
   "cell_type": "markdown",
   "id": "1b664f83",
   "metadata": {},
   "source": [
    "Inspect the table contents to confirm the row was inserted:"
   ]
  },
  {
   "cell_type": "code",
   "execution_count": null,
   "id": "40fab933",
   "metadata": {},
   "outputs": [],
   "source": [
    "spark.sql(\"select * from some_people\").show()"
   ]
  },
  {
   "cell_type": "markdown",
   "id": "509b6809",
   "metadata": {},
   "source": [
    "Run a query that returns the teenagers:"
   ]
  },
  {
   "cell_type": "code",
   "execution_count": null,
   "id": "bad85075",
   "metadata": {},
   "outputs": [],
   "source": [
    "spark.sql(\"select * from some_people where life_stage='teenager'\").show()"
   ]
  },
  {
   "cell_type": "markdown",
   "id": "ab3fd99f",
   "metadata": {},
   "source": [
    "Spark makes it easy to register tables and query them with pure SQL.\n",
    "\n",
    "## Spark Structured Streaming Example\n",
    "\n",
    "Spark also has Structured Streaming APIs that allow you to create batch or real-time streaming applications.\n",
    "\n",
    "Let’s see how to use Spark Structured Streaming to read data from Kafka and write it to a Parquet table hourly.\n",
    "\n",
    "Suppose you have a Kafka stream that’s continuously populated with the following data:"
   ]
  },
  {
   "cell_type": "markdown",
   "id": "1d975f3b",
   "metadata": {},
   "source": [
    "{\"student_name\":\"someXXperson\", \"graduation_year\":\"2023\", \"major\":\"math\"}\n",
    "{\"student_name\":\"liXXyao\", \"graduation_year\":\"2025\", \"major\":\"physics\"}"
   ]
  },
  {
   "cell_type": "markdown",
   "id": "540d9ca7",
   "metadata": {},
   "source": [
    "Here’s how to read the Kafka source into a Spark DataFrame:"
   ]
  },
  {
   "cell_type": "code",
   "execution_count": null,
   "id": "c390edae",
   "metadata": {},
   "outputs": [],
   "source": [
    "df = (\n",
    "    spark.readStream.format(\"kafka\")\n",
    "    .option(\"kafka.bootstrap.servers\", \"host1:port1,host2:port2\")\n",
    "    .option(\"subscribe\", subscribeTopic)\n",
    "    .load()\n",
    ")"
   ]
  },
  {
   "cell_type": "markdown",
   "id": "03ab4bbf",
   "metadata": {},
   "source": [
    "Create a function that cleans the input data."
   ]
  },
  {
   "cell_type": "code",
   "execution_count": null,
   "id": "630b124c",
   "metadata": {},
   "outputs": [],
   "source": [
    "schema = StructType([\n",
    " StructField(\"student_name\", StringType()),\n",
    " StructField(\"graduation_year\", StringType()),\n",
    " StructField(\"major\", StringType()),\n",
    "])\n",
    "\n",
    "def with_normalized_names(df, schema):\n",
    "    parsed_df = (\n",
    "        df.withColumn(\"json_data\", from_json(col(\"value\").cast(\"string\"), schema))\n",
    "        .withColumn(\"student_name\", col(\"json_data.student_name\"))\n",
    "        .withColumn(\"graduation_year\", col(\"json_data.graduation_year\"))\n",
    "        .withColumn(\"major\", col(\"json_data.major\"))\n",
    "        .drop(col(\"json_data\"))\n",
    "        .drop(col(\"value\"))\n",
    "    )\n",
    "    split_col = split(parsed_df[\"student_name\"], \"XX\")\n",
    "    return (\n",
    "        parsed_df.withColumn(\"first_name\", split_col.getItem(0))\n",
    "        .withColumn(\"last_name\", split_col.getItem(1))\n",
    "        .drop(\"student_name\")\n",
    "    )"
   ]
  },
  {
   "cell_type": "markdown",
   "id": "65921c64",
   "metadata": {},
   "source": [
    "Now, create a function that will read all of the new data in Kafka whenever it’s run."
   ]
  },
  {
   "cell_type": "code",
   "execution_count": null,
   "id": "d4dc798a",
   "metadata": {},
   "outputs": [],
   "source": [
    "def perform_available_now_update():\n",
    "    checkpointPath = \"data/tmp_students_checkpoint/\"\n",
    "    path = \"data/tmp_students\"\n",
    "    return df.transform(lambda df: with_normalized_names(df)).writeStream.trigger(\n",
    "        availableNow=True\n",
    "    ).format(\"parquet\").option(\"checkpointLocation\", checkpointPath).start(path)"
   ]
  },
  {
   "cell_type": "markdown",
   "id": "9e9bf478",
   "metadata": {},
   "source": [
    "Invoke the perform_available_now_update() function and see the contents of the Parquet table.\n",
    "\n",
    "You can set up a cron job to run the perform_available_now_update() function every hour so your Parquet table is regularly updated.\n",
    "\n",
    "## Spark RDD Example\n",
    "\n",
    "The Spark RDD APIs are suitable for unstructured data.\n",
    "\n",
    "The Spark DataFrame API is easier and more performant for structured data.\n",
    "\n",
    "Suppose you have a text file called some_text.txt with the following three lines of data:"
   ]
  },
  {
   "cell_type": "markdown",
   "id": "31cb2bb2",
   "metadata": {},
   "source": [
    "these are words\n",
    "  these are more words\n",
    "  words in english"
   ]
  },
  {
   "cell_type": "markdown",
   "id": "8dcbc114",
   "metadata": {},
   "source": [
    "You would like to compute the count of each word in the text file. Here is how to perform this computation with Spark RDDs:"
   ]
  },
  {
   "cell_type": "code",
   "execution_count": null,
   "id": "c27d3875",
   "metadata": {},
   "outputs": [],
   "source": [
    "text_file = spark.sparkContext.textFile(\"some_words.txt\")\n",
    "\n",
    "counts = (\n",
    "    text_file.flatMap(lambda line: line.split(\" \"))\n",
    "    .map(lambda word: (word, 1))\n",
    "    .reduceByKey(lambda a, b: a + b)\n",
    ")\n"
   ]
  },
  {
   "cell_type": "markdown",
   "id": "866ffa5f",
   "metadata": {},
   "source": [
    "Let’s take a look at the result:"
   ]
  },
  {
   "cell_type": "code",
   "execution_count": null,
   "id": "cece82b1",
   "metadata": {},
   "outputs": [],
   "source": [
    "counts.collect()\n",
    "\n",
    "[('these', 2),\n",
    " ('are', 2),\n",
    " ('more', 1),\n",
    " ('in', 1),\n",
    " ('words', 3),\n",
    " ('english', 1)]"
   ]
  },
  {
   "cell_type": "markdown",
   "id": "18033a6b",
   "metadata": {},
   "source": [
    "Spark allows for efficient execution of the query because it parallelizes this computation. Many other query engines aren’t capable of parallelizing computations."
   ]
  }
 ],
 "metadata": {
  "kernelspec": {
   "display_name": "base",
   "language": "python",
   "name": "python3"
  },
  "language_info": {
   "codemirror_mode": {
    "name": "ipython",
    "version": 3
   },
   "file_extension": ".py",
   "mimetype": "text/x-python",
   "name": "python",
   "nbconvert_exporter": "python",
   "pygments_lexer": "ipython3",
   "version": "3.13.2"
  }
 },
 "nbformat": 4,
 "nbformat_minor": 5
}
