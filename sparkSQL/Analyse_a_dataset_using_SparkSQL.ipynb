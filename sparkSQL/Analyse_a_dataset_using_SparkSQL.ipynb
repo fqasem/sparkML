{
 "cells": [
  {
   "cell_type": "markdown",
   "id": "5fa9e2ac-bc4f-4a21-b228-60b258eeb751",
   "metadata": {},
   "source": [
    "## Analyze a dataset using SparkSQL\n"
   ]
  },
  {
   "cell_type": "markdown",
   "id": "5c396e59-9000-44fb-88a3-8cd554bf12e2",
   "metadata": {},
   "source": [
    "## __Table of Contents__\n",
    "\n",
    "<ol>\n",
    "  <li>\n",
    "    <a href=\"#Objectives\">Objectives\n",
    "    </a>\n",
    "  </li>\n",
    "  <li>\n",
    "    <a href=\"#Datasets\">Datasets\n",
    "    </a>\n",
    "  </li>\n",
    "  <li>\n",
    "    <a href=\"#Setup\">Setup\n",
    "    </a>\n",
    "    <ol>\n",
    "      <li>\n",
    "        <a href=\"#Installing-Required-Libraries\">Installing Required Libraries\n",
    "        </a>\n",
    "      </li>\n",
    "      <li>\n",
    "        <a href=\"#Importing-Required-Libraries\">Importing Required Libraries\n",
    "        </a>\n",
    "      </li>\n",
    "    </ol>\n",
    "  </li>\n",
    "  <li>\n",
    "    <a href=\"#Examples\">Examples\n",
    "    </a>\n",
    "    <ol>\n",
    "    <li>\n",
    "      <a href=\"#Task-1---Create-a-spark-session\">Task 1 - Create a spark session\n",
    "      </a>\n",
    "    </li>\n",
    "    <li>\n",
    "      <a href=\"#Task-2---Load-csv-file-into-a-dataframe\">Task 2 - Load csv file into a dataframe\n",
    "      </a>\n",
    "    </li>\n",
    "    <li>\n",
    "      <a href=\"#Task-3---Create-a-temporary-view\">Task 3 - Create a temporary view\n",
    "      </a>\n",
    "    </li>\n",
    "    <li>\n",
    "      <a href=\"#Task-4---Run-a-SQL-query-on-the-dataframe\">Task 4 - Run a SQL query on the dataframe\n",
    "      </a>\n",
    "    </li>\n",
    "    <li>\n",
    "      <a href=\"#Task-5---Analyze-the-dataset\">Task 5 - Analyze the dataset\n",
    "      </a>\n",
    "    </li>\n",
    "    </ol>\n",
    "  </li>\n",
    "  \n",
    "  \n",
    "</ol>\n"
   ]
  },
  {
   "cell_type": "markdown",
   "id": "d2109c69-4daf-439e-8568-74fbb06fb66f",
   "metadata": {},
   "source": [
    "## Objectives\n",
    "\n",
    "After completing this lab you will be able to:\n",
    "\n",
    " - Load a csv dataset into a dataframe\n",
    " - Create a temporary view based on a dataframe\n",
    " - Run SQL queries on the view\n",
    " - Analyze a dataset using SparkSQL\n"
   ]
  },
  {
   "cell_type": "markdown",
   "id": "c350cc09-c47b-4c7f-8802-c3a39e78bd6c",
   "metadata": {},
   "source": [
    "## Datasets\n",
    "\n",
    "In this lab you will be using dataset(s):\n",
    "\n",
    " - Modified version of car mileage dataset.  Original dataset available at https://archive.ics.uci.edu/ml/datasets/auto+mpg \n",
    " - Modified version of diamonds dataset.  Original dataset available at https://www.openml.org/search?type=data&sort=runs&id=42225&status=active\n",
    " \n"
   ]
  },
  {
   "cell_type": "markdown",
   "id": "db94c960-cd0b-4488-82b7-c8453e2b8b44",
   "metadata": {},
   "source": [
    "----\n"
   ]
  },
  {
   "cell_type": "markdown",
   "id": "d8f37ad0-62f1-4833-9bb0-873f05c49c1e",
   "metadata": {},
   "source": [
    "## Setup\n"
   ]
  },
  {
   "cell_type": "markdown",
   "id": "b1d6e8c0-b5ef-4f0c-9314-305da02d817c",
   "metadata": {},
   "source": [
    "For this lab, we will be using the following libraries:\n",
    "\n",
    "*   [`PySpark`](https://spark.apache.org/docs/latest/api/python/index.html?utm_medium=Exinfluencer&utm_source=Exinfluencer&utm_content=000026UJ&utm_term=10006555&utm_id=NA-SkillsNetwork-Channel-SkillsNetworkCoursesIBMSkillsNetworkBD0231ENCoursera2789-2023-01-01) for connecting to the Spark Cluster\n"
   ]
  },
  {
   "cell_type": "markdown",
   "id": "ab6f5200-9915-4fb7-beae-c752690ec5a1",
   "metadata": {},
   "source": [
    "### Installing Required Libraries\n",
    "\n",
    "Spark Cluster is pre-installed in the Skills Network Labs environment. However, you need libraries like pyspark and findspark to connect to this cluster.\n",
    "\n",
    "If you wish to download this jupyter notebook and run on your local computer, follow the instructions mentioned <a href=\"https://cf-courses-data.s3.us.cloud-object-storage.appdomain.cloud/IBMSkillsNetwork-BD0231EN-Coursera/labs/Connecting_to_spark_cluster_using_Skills_Network_labs.ipynb\">here.</a>\n",
    "\n"
   ]
  },
  {
   "cell_type": "markdown",
   "id": "542621cd-cf62-4733-818a-092f5c7dbeae",
   "metadata": {},
   "source": [
    "The following required libraries are __not__ pre-installed in the Skills Network Labs environment. __You will need to run the following cell__ to install them:\n"
   ]
  },
  {
   "cell_type": "code",
   "execution_count": null,
   "id": "5f27bd62-9d1e-4692-895e-1bee114d5632",
   "metadata": {},
   "outputs": [],
   "source": [
    "%pip install pyspark\n"
   ]
  },
  {
   "cell_type": "markdown",
   "id": "42190abf-19a7-4617-93f6-ccd3bfeb3965",
   "metadata": {},
   "source": [
    "### Importing Required Libraries\n",
    "\n",
    "_We recommend you import all required libraries in one place (here):_\n"
   ]
  },
  {
   "cell_type": "markdown",
   "id": "46170a5f-61fd-4fba-83b5-d6286b02f0bb",
   "metadata": {},
   "source": [
    "# Examples\n"
   ]
  },
  {
   "cell_type": "markdown",
   "id": "44c6e8ab-90e0-4057-8b0b-4cb373bb7c1f",
   "metadata": {},
   "source": [
    "## Task 1 - Create a spark session\n"
   ]
  },
  {
   "cell_type": "code",
   "execution_count": null,
   "id": "5648794a-bec0-4f81-a0a8-8490051e76a8",
   "metadata": {},
   "outputs": [],
   "source": [
    "#Create SparkSession\n",
    "from pyspark.sql import SparkSession\n",
    "\n",
    "spark = SparkSession.builder.appName(\"SparkSQL\").getOrCreate()"
   ]
  },
  {
   "cell_type": "markdown",
   "id": "91ca9e98-ff3c-4a37-b148-05cbb45fb508",
   "metadata": {},
   "source": [
    "## Task 2 - Load csv file into a dataframe\n"
   ]
  },
  {
   "cell_type": "markdown",
   "id": "fb349968-7d1c-449f-a564-f37f257b0434",
   "metadata": {},
   "source": [
    "Download the data file\n"
   ]
  },
  {
   "cell_type": "code",
   "execution_count": null,
   "id": "ca8b78a3-fcf7-4e81-a46e-7e14f5f843b2",
   "metadata": {},
   "outputs": [],
   "source": [
    "# !wget https://cf-courses-data.s3.us.cloud-object-storage.appdomain.cloud/IBM-BD0231EN-SkillsNetwork/datasets/mpg.csv\n"
   ]
  },
  {
   "cell_type": "markdown",
   "id": "9bcb3b6d-e369-4d05-8562-0f47f017a30f",
   "metadata": {},
   "source": [
    "Load the dataset into the spark dataframe\n"
   ]
  },
  {
   "cell_type": "code",
   "execution_count": null,
   "id": "f1418e92-2eb1-4678-ba6f-10fa6bb7b643",
   "metadata": {},
   "outputs": [],
   "source": [
    "# Load mpg dataset\n",
    "mpg_data = spark.read.csv(\"../data/mpg.csv\", header=True, inferSchema=True)\n"
   ]
  },
  {
   "cell_type": "markdown",
   "id": "0fcd23b1-1a03-4630-bae2-b055ac3b00c9",
   "metadata": {},
   "source": [
    "## Task 3 - Create a temporary view\n"
   ]
  },
  {
   "cell_type": "markdown",
   "id": "dd0d90ed-8237-47b5-8c5d-bd8c9303f34a",
   "metadata": {},
   "source": [
    "Create a temporary view of the DataFrame named mileage\n"
   ]
  },
  {
   "cell_type": "code",
   "execution_count": null,
   "id": "03d155a3-c079-4624-b7d6-abd090e9571c",
   "metadata": {},
   "outputs": [],
   "source": [
    "\n",
    "mpg_data.createOrReplaceTempView(\"mileage\")\n"
   ]
  },
  {
   "cell_type": "markdown",
   "id": "6cbaaff3-f20e-4d97-99ce-8bb96b6c9f7e",
   "metadata": {},
   "source": [
    "## Task 4 - Run a SQL query on the dataframe\n"
   ]
  },
  {
   "cell_type": "markdown",
   "id": "1b249866-53a3-44f8-8a58-dc7dc336c22c",
   "metadata": {},
   "source": [
    "Select all cars whose mileage is more than 40\n"
   ]
  },
  {
   "cell_type": "code",
   "execution_count": null,
   "id": "05f77d5e-e565-4164-a42a-31eaad27f5b7",
   "metadata": {},
   "outputs": [],
   "source": [
    "results = spark.sql(\"SELECT * FROM mileage WHERE MPG > 40\")"
   ]
  },
  {
   "cell_type": "code",
   "execution_count": null,
   "id": "442116ab-4403-418a-b7c3-ec6a622a7b8c",
   "metadata": {},
   "outputs": [],
   "source": [
    "# show the results\n",
    "results.show()"
   ]
  },
  {
   "cell_type": "markdown",
   "id": "265dd3c2-ec85-43e8-9566-7cb63da15d70",
   "metadata": {},
   "source": [
    "## Task 5 - Analyze the dataset\n"
   ]
  },
  {
   "cell_type": "markdown",
   "id": "098a4f72-099f-42c4-9d4e-b4a05d2ad673",
   "metadata": {},
   "source": [
    "List all the unique Origins\n"
   ]
  },
  {
   "cell_type": "code",
   "execution_count": null,
   "id": "33ad1105-a92b-40dc-b5a8-c1e0b47c6037",
   "metadata": {},
   "outputs": [],
   "source": [
    "spark.sql(\"SELECT distinct Origin FROM mileage\").show()"
   ]
  },
  {
   "cell_type": "markdown",
   "id": "b54ea2ad-25c2-4bc1-a017-49e6e350d60d",
   "metadata": {},
   "source": [
    "Show the count of Japanese cars\n"
   ]
  },
  {
   "cell_type": "code",
   "execution_count": null,
   "id": "8010f46d-92c5-450a-beb6-1af21bec2b22",
   "metadata": {},
   "outputs": [],
   "source": [
    "spark.sql(\"SELECT count(*) FROM mileage where Origin ='Japanese' \").show()"
   ]
  },
  {
   "cell_type": "markdown",
   "id": "fef31392-da4f-4f9c-a176-26e0e4ab6c02",
   "metadata": {},
   "source": [
    "Count the number of cars with mileage greater than 40\n"
   ]
  },
  {
   "cell_type": "code",
   "execution_count": null,
   "id": "c3347693-9748-4aa9-bb80-2d6cf50e230f",
   "metadata": {},
   "outputs": [],
   "source": [
    "spark.sql(\"SELECT count(*) FROM mileage where MPG > 40\").show()"
   ]
  },
  {
   "cell_type": "markdown",
   "id": "84219b39-e2fd-4de1-b812-506e65f66599",
   "metadata": {},
   "source": [
    "List the number of cars made in different Years\n"
   ]
  },
  {
   "cell_type": "code",
   "execution_count": null,
   "id": "015c6497-4d03-45e9-8022-1535ccda4ed3",
   "metadata": {},
   "outputs": [],
   "source": [
    "spark.sql(\"SELECT Year, count(Year) FROM mileage group by Year\").show()"
   ]
  },
  {
   "cell_type": "markdown",
   "id": "754d9cc4-53e6-4b94-9fdc-a5958bd38bc8",
   "metadata": {},
   "source": [
    "Print the maximum MPG\n"
   ]
  },
  {
   "cell_type": "code",
   "execution_count": null,
   "id": "e92b2e36-0eab-4a36-8fe9-6dacba5cd5d3",
   "metadata": {},
   "outputs": [],
   "source": [
    "spark.sql(\"SELECT max(MPG) FROM mileage\").show()"
   ]
  },
  {
   "cell_type": "markdown",
   "id": "2d8afae0-4750-428c-8aa2-ec5294ed6e8e",
   "metadata": {},
   "source": [
    "Stop Spark Session\n"
   ]
  },
  {
   "cell_type": "code",
   "execution_count": null,
   "id": "abe95a3a-bd57-417c-85f9-15d286263a36",
   "metadata": {},
   "outputs": [],
   "source": [
    "spark.stop()"
   ]
  },
  {
   "cell_type": "markdown",
   "id": "e67a973d-f970-433c-b55b-d3a076380917",
   "metadata": {},
   "source": [
    "<!--\n",
    "## Change Log\n",
    "-->\n"
   ]
  },
  {
   "cell_type": "markdown",
   "id": "0a44f0ca-941e-4fca-bd04-efef84620da6",
   "metadata": {},
   "source": [
    "<!--\n",
    "|Date (YYYY-MM-DD)|Version|Changed By|Change Description|\n",
    "|-|-|-|-|\n",
    "|2023-05-04|0.1|Ramesh Sannareddy|Initial Version Created|\n",
    "-->\n"
   ]
  }
 ],
 "metadata": {
  "kernelspec": {
   "display_name": "base",
   "language": "python",
   "name": "python3"
  },
  "language_info": {
   "codemirror_mode": {
    "name": "ipython",
    "version": 3
   },
   "file_extension": ".py",
   "mimetype": "text/x-python",
   "name": "python",
   "nbconvert_exporter": "python",
   "pygments_lexer": "ipython3",
   "version": "3.13.2"
  },
  "prev_pub_hash": "a391e24e3daa16c4386301f44198f17ee92d59e53325e6062333c2817e9001fe"
 },
 "nbformat": 4,
 "nbformat_minor": 4
}
